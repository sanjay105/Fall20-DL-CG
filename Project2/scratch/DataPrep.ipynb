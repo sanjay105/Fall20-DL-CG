{
 "cells": [
  {
   "cell_type": "code",
   "execution_count": 1,
   "metadata": {},
   "outputs": [],
   "source": [
    "import cv2\n",
    "import os\n",
    "import glob\n",
    "import torch\n",
    "import torchvision.transforms as transforms\n",
    "from torch.utils.data import DataLoader, Dataset\n",
    "import torchvision\n",
    "import time\n",
    "import albumentations as A\n",
    "from PIL import Image\n",
    "import matplotlib.pyplot as plt\n",
    "import numpy as np"
   ]
  },
  {
   "cell_type": "code",
   "execution_count": 2,
   "metadata": {},
   "outputs": [],
   "source": [
    "img_dir = \"/blue/cis6930/sbanda/images/face_images/\"\n",
    "image_list = glob.glob(img_dir+\"*.jpg\")\n",
    "dest_img_dir = \"/blue/cis6930/sbanda/images/Augmented/\""
   ]
  },
  {
   "cell_type": "code",
   "execution_count": 3,
   "metadata": {},
   "outputs": [],
   "source": [
    "randCrop = transforms.Compose([\n",
    "    transforms.ToPILImage(),\n",
    "    transforms.Resize((128, 128)),\n",
    "    transforms.RandomCrop((64, 64)),\n",
    "    transforms.Resize((128,128))\n",
    "])\n",
    "\n",
    "hFlip = transforms.Compose([\n",
    "    transforms.ToPILImage(),\n",
    "    transforms.Resize((128, 128)),\n",
    "    transforms.RandomHorizontalFlip(p=0.5),\n",
    "    transforms.Resize((128,128))\n",
    "])\n",
    "\n",
    "vFlip = transforms.Compose([\n",
    "    transforms.ToPILImage(),\n",
    "    transforms.Resize((128, 128)),\n",
    "    transforms.RandomVerticalFlip(p=0.5),\n",
    "    transforms.Resize((128,128))\n",
    "])\n",
    "\n",
    "rotate = transforms.Compose([\n",
    "    transforms.ToPILImage(),\n",
    "    transforms.Resize((128, 128)),\n",
    "    transforms.RandomRotation(degrees=(-90, 90)),\n",
    "    transforms.Resize((128,128))\n",
    "])"
   ]
  },
  {
   "cell_type": "code",
   "execution_count": 4,
   "metadata": {},
   "outputs": [],
   "source": [
    "def augment_data():\n",
    "    for i in image_list:\n",
    "        image = plt.imread(i)\n",
    "        image = Image.fromarray(image).convert('RGB')\n",
    "        image.save((i.replace(img_dir,dest_img_dir)).replace(\".jpg\",\"_0.jpg\"))\n",
    "        image = np.asarray(image).astype(np.uint8)\n",
    "        randCrop(image).save((i.replace(img_dir,dest_img_dir)).replace(\".jpg\",\"_1.jpg\"))\n",
    "        vFlip(image).save((i.replace(img_dir,dest_img_dir)).replace(\".jpg\",\"_2.jpg\"))\n",
    "        hFlip(image).save((i.replace(img_dir,dest_img_dir)).replace(\".jpg\",\"_3.jpg\"))\n",
    "        rotate(image).save((i.replace(img_dir,dest_img_dir)).replace(\".jpg\",\"_4.jpg\"))\n",
    "        randCrop(np.asarray(vFlip(image)).astype(np.uint8)).save((i.replace(img_dir,dest_img_dir)).replace(\".jpg\",\"_5.jpg\"))\n",
    "        randCrop(np.asarray(hFlip(image)).astype(np.uint8)).save((i.replace(img_dir,dest_img_dir)).replace(\".jpg\",\"_6.jpg\"))\n",
    "        rotate(np.asarray(randCrop(image)).astype(np.uint8)).save((i.replace(img_dir,dest_img_dir)).replace(\".jpg\",\"_7.jpg\"))\n",
    "        rotate(np.asarray(vFlip(image)).astype(np.uint8)).save((i.replace(img_dir,dest_img_dir)).replace(\".jpg\",\"_8.jpg\"))\n",
    "        rotate(np.asarray(hFlip(image)).astype(np.uint8)).save((i.replace(img_dir,dest_img_dir)).replace(\".jpg\",\"_9.jpg\"))\n",
    "        randCrop(np.asarray(randCrop(image)).astype(np.uint8)).save((i.replace(img_dir,dest_img_dir)).replace(\".jpg\",\"_10.jpg\"))"
   ]
  },
  {
   "cell_type": "code",
   "execution_count": 5,
   "metadata": {},
   "outputs": [],
   "source": [
    "#augment_data()"
   ]
  },
  {
   "cell_type": "code",
   "execution_count": 6,
   "metadata": {},
   "outputs": [],
   "source": [
    "image_list = glob.glob(dest_img_dir+\"*.jpg\")"
   ]
  },
  {
   "cell_type": "code",
   "execution_count": 7,
   "metadata": {},
   "outputs": [],
   "source": [
    "def getDataSet(image_list):\n",
    "    color_images_dataset = []\n",
    "    grayscale_images_dataset = []\n",
    "    X = []\n",
    "    y = []\n",
    "    for image in image_list:\n",
    "        img = cv2.imread(image)\n",
    "        imageLab = np.array(cv2.cvtColor(img,cv2.COLOR_RGB2Lab),dtype = float)\n",
    "        color_images_dataset.append(img)\n",
    "        imageLab /= 255.0 \n",
    "        grayscale_images_dataset.append(imageLab)\n",
    "        X.append(imageLab[:,:,0])\n",
    "        y.append([np.mean(imageLab[:,:,1]),np.mean(imageLab[:,:,2])])\n",
    "        # NormalizeImage(img)\n",
    "\n",
    "    color_images_dataset = np.array(color_images_dataset,dtype = float)\n",
    "    grayscale_images_dataset = np.array(grayscale_images_dataset,dtype = float)\n",
    "    X = np.array(X,dtype=float)\n",
    "    y = np.array(y,dtype=float)\n",
    "\n",
    "    print(color_images_dataset.shape)\n",
    "    print(grayscale_images_dataset.shape)\n",
    "    print(X.shape)\n",
    "    print(y.shape)\n",
    "    \n",
    "    return X,y\n"
   ]
  },
  {
   "cell_type": "code",
   "execution_count": 8,
   "metadata": {},
   "outputs": [
    {
     "name": "stdout",
     "output_type": "stream",
     "text": [
      "(8250, 128, 128, 3)\n",
      "(8250, 128, 128, 3)\n",
      "(8250, 128, 128)\n",
      "(8250, 2)\n"
     ]
    }
   ],
   "source": [
    "X,y = getDataSet(image_list)"
   ]
  },
  {
   "cell_type": "code",
   "execution_count": 9,
   "metadata": {},
   "outputs": [
    {
     "name": "stdout",
     "output_type": "stream",
     "text": [
      "[[[0.         0.         0.         ... 0.         0.         0.        ]\n",
      "  [0.         0.         0.         ... 0.         0.         0.        ]\n",
      "  [0.         0.         0.         ... 0.         0.         0.        ]\n",
      "  ...\n",
      "  [0.         0.         0.         ... 0.         0.         0.        ]\n",
      "  [0.         0.         0.         ... 0.         0.         0.        ]\n",
      "  [0.         0.         0.         ... 0.         0.         0.        ]]\n",
      "\n",
      " [[0.03137255 0.03137255 0.03921569 ... 0.32941176 0.73333333 0.51764706]\n",
      "  [0.03137255 0.03137255 0.03921569 ... 0.32941176 0.65098039 0.74509804]\n",
      "  [0.03921569 0.03921569 0.03921569 ... 0.35686275 0.43137255 0.81568627]\n",
      "  ...\n",
      "  [0.20392157 0.20392157 0.21176471 ... 0.04313725 0.04705882 0.04705882]\n",
      "  [0.21960784 0.2        0.21176471 ... 0.04705882 0.05490196 0.05490196]\n",
      "  [0.23529412 0.2        0.22352941 ... 0.05490196 0.05882353 0.0627451 ]]\n",
      "\n",
      " [[0.17254902 0.17647059 0.17254902 ... 0.50588235 0.60784314 0.69411765]\n",
      "  [0.16470588 0.17254902 0.16470588 ... 0.62745098 0.69019608 0.48627451]\n",
      "  [0.15686275 0.16470588 0.16470588 ... 0.6745098  0.60784314 0.25490196]\n",
      "  ...\n",
      "  [0.49803922 0.49411765 0.48627451 ... 0.41568627 0.41176471 0.55686275]\n",
      "  [0.48627451 0.50588235 0.50980392 ... 0.47058824 0.4745098  0.54509804]\n",
      "  [0.4745098  0.52941176 0.56078431 ... 0.55686275 0.52941176 0.48627451]]\n",
      "\n",
      " ...\n",
      "\n",
      " [[0.         0.         0.         ... 0.         0.         0.        ]\n",
      "  [0.         0.         0.         ... 0.         0.         0.        ]\n",
      "  [0.         0.         0.         ... 0.         0.         0.        ]\n",
      "  ...\n",
      "  [0.         0.         0.         ... 0.         0.         0.        ]\n",
      "  [0.         0.         0.         ... 0.         0.         0.        ]\n",
      "  [0.         0.         0.         ... 0.         0.         0.        ]]\n",
      "\n",
      " [[0.57647059 0.57254902 0.56078431 ... 0.45098039 0.44313725 0.43529412]\n",
      "  [0.56470588 0.56078431 0.55294118 ... 0.45490196 0.44705882 0.44313725]\n",
      "  [0.54901961 0.54509804 0.54117647 ... 0.4627451  0.45490196 0.45098039]\n",
      "  ...\n",
      "  [0.45098039 0.44313725 0.42745098 ... 0.41960784 0.41568627 0.41568627]\n",
      "  [0.45882353 0.45098039 0.43921569 ... 0.41960784 0.41568627 0.41568627]\n",
      "  [0.45882353 0.45098039 0.43921569 ... 0.41960784 0.41960784 0.41568627]]\n",
      "\n",
      " [[0.23921569 0.23137255 0.22745098 ... 0.50980392 0.52156863 0.52941176]\n",
      "  [0.21568627 0.21176471 0.21568627 ... 0.5254902  0.52941176 0.54117647]\n",
      "  [0.18823529 0.18823529 0.19215686 ... 0.54509804 0.54901961 0.55686275]\n",
      "  ...\n",
      "  [0.0745098  0.07058824 0.05882353 ... 0.35686275 0.35294118 0.34901961]\n",
      "  [0.06666667 0.06666667 0.05882353 ... 0.37254902 0.37254902 0.36078431]\n",
      "  [0.06666667 0.06666667 0.05882353 ... 0.38039216 0.38039216 0.36470588]]]\n"
     ]
    }
   ],
   "source": [
    "print(X)"
   ]
  },
  {
   "cell_type": "code",
   "execution_count": 10,
   "metadata": {},
   "outputs": [
    {
     "name": "stdout",
     "output_type": "stream",
     "text": [
      "[[0.52015165 0.44781231]\n",
      " [0.50190837 0.4187871 ]\n",
      " [0.53289627 0.41701325]\n",
      " ...\n",
      " [0.52807306 0.44052327]\n",
      " [0.52461033 0.41932182]\n",
      " [0.52238722 0.39995644]]\n"
     ]
    }
   ],
   "source": [
    "print(y)"
   ]
  },
  {
   "cell_type": "code",
   "execution_count": null,
   "metadata": {},
   "outputs": [],
   "source": []
  }
 ],
 "metadata": {
  "kernelspec": {
   "display_name": "Python 3.8 (basic)",
   "language": "python",
   "name": "python3"
  },
  "language_info": {
   "codemirror_mode": {
    "name": "ipython",
    "version": 3
   },
   "file_extension": ".py",
   "mimetype": "text/x-python",
   "name": "python",
   "nbconvert_exporter": "python",
   "pygments_lexer": "ipython3",
   "version": "3.8.1"
  }
 },
 "nbformat": 4,
 "nbformat_minor": 4
}
